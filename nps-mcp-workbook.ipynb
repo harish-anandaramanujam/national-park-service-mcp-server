{
 "cells": [
  {
   "cell_type": "markdown",
   "id": "50772845",
   "metadata": {},
   "source": [
    "# National Park Service MCP Server Integration workbook"
   ]
  },
  {
   "cell_type": "code",
   "execution_count": 54,
   "id": "c2f61f11",
   "metadata": {},
   "outputs": [
    {
     "data": {
      "text/plain": [
       "True"
      ]
     },
     "execution_count": 54,
     "metadata": {},
     "output_type": "execute_result"
    }
   ],
   "source": [
    "from dotenv import load_dotenv\n",
    "from agents import Agent, Runner, trace, Tool\n",
    "from agents.mcp import MCPServerStdio\n",
    "from IPython.display import display, Markdown\n",
    "\n",
    "load_dotenv(override=True)"
   ]
  },
  {
   "cell_type": "code",
   "execution_count": 55,
   "id": "5063c15d",
   "metadata": {},
   "outputs": [],
   "source": [
    "nps_api_server_params = [\n",
    "    {\"command\": \"uv\", \"args\": [\"run\",\"nps.py\"]}\n",
    "]\n",
    "\n",
    "# server1 = [\n",
    "#     {\"command\": \"uvx\", \"args\": [\"abc.py\"]},\n",
    "#     {\"command\": \"uvx\", \"args\": [\"xyz.py\"]}\n",
    "# ]"
   ]
  },
  {
   "cell_type": "code",
   "execution_count": 56,
   "id": "b06968b1",
   "metadata": {},
   "outputs": [],
   "source": [
    "nps_api_server = [MCPServerStdio(params, client_session_timeout_seconds=30) for params in nps_api_server_params]"
   ]
  },
  {
   "cell_type": "code",
   "execution_count": 57,
   "id": "5a454135",
   "metadata": {},
   "outputs": [],
   "source": [
    "mcp_servers = nps_api_server\n",
    "#mcp_servers = server1 + server2 +server3...."
   ]
  },
  {
   "cell_type": "code",
   "execution_count": 58,
   "id": "ea73cbb5",
   "metadata": {},
   "outputs": [],
   "source": [
    "async def nps_agent(mcp_servers) -> Agent:\n",
    "    instructions = \"\"\"You are a National Park Service (NPS) Assistant, \n",
    "    an expert guide specializing in America's national parks, monuments, historic sites, and recreational areas. \n",
    "    Your mission is to help visitors discover, plan, and explore the incredible natural \n",
    "    and cultural treasures protected by the National Park Service.\n",
    "    You use available tools to call NPS website API to provide accurate information\n",
    "\"\"\"\n",
    "    researcher = Agent(\n",
    "        name=\"Researcher\",\n",
    "        instructions=instructions,\n",
    "        model=\"gpt-4.1-mini\",\n",
    "        mcp_servers=mcp_servers,\n",
    "    )\n",
    "    return researcher"
   ]
  },
  {
   "cell_type": "code",
   "execution_count": 59,
   "id": "69e61a3a",
   "metadata": {},
   "outputs": [],
   "source": [
    "\n",
    "\n",
    "async def nps_tool(mcp_servers) -> Tool:\n",
    "    researcher = await nps_agent(mcp_servers)\n",
    "    return researcher.as_tool(\n",
    "            tool_name=\"NPS-Researcher\",\n",
    "            tool_description=\"This tool researches online for park information, \\\n",
    "                either based on your specific request to look into a certain park, \\\n",
    "                Describe the park name to get further information\"\n",
    "        )\n",
    "\n"
   ]
  },
  {
   "cell_type": "code",
   "execution_count": 60,
   "id": "8fc8c1e0",
   "metadata": {},
   "outputs": [
    {
     "name": "stdout",
     "output_type": "stream",
     "text": [
      "<agents.mcp.server.MCPServerStdio object at 0x11d8f81d0>\n"
     ]
    },
    {
     "data": {
      "text/markdown": [
       "North Cascades National Park is located in Washington state and offers an alpine landscape less than three hours from Seattle. It features jagged peaks crowned by more than 300 glaciers, forested valleys, and a diverse environment that responds to climate changes. Visitors can experience a variety of activities such as hiking, camping, biking, boating, rock climbing, and guided tours. The park is open year-round, with the main operational season from late May to late September.\n",
       "\n",
       "Highlights:\n",
       "- Alpine scenery with glaciers and mountains\n",
       "- Forests, lakes, and diverse wildlife including wolves and wild cats\n",
       "- Activities: hiking, camping (including backcountry and group camping), boating, biking, rock climbing, fishing, and more\n",
       "- Visitor centers open late May to September\n",
       "- Directions: Access via State Route 20, connecting to Interstate 5\n",
       "\n",
       "For more information, you can visit the official website: https://www.nps.gov/noca/index.htm\n",
       "\n",
       "Would you like information on specific activities, trails, camping, or other details?"
      ],
      "text/plain": [
       "<IPython.core.display.Markdown object>"
      ]
     },
     "metadata": {},
     "output_type": "display_data"
    }
   ],
   "source": [
    "park_name = \"North Cascades National Park\"\n",
    "\n",
    "for server in mcp_servers:\n",
    "    print (server)\n",
    "    await server.connect()\n",
    "researcher = await nps_agent(mcp_servers) \n",
    "with trace(\"NPS-Researcher\"):\n",
    "    result = await Runner.run(researcher, park_name, max_turns=30)\n",
    "display(Markdown(result.final_output))"
   ]
  }
 ],
 "metadata": {
  "kernelspec": {
   "display_name": "agents",
   "language": "python",
   "name": "python3"
  },
  "language_info": {
   "codemirror_mode": {
    "name": "ipython",
    "version": 3
   },
   "file_extension": ".py",
   "mimetype": "text/x-python",
   "name": "python",
   "nbconvert_exporter": "python",
   "pygments_lexer": "ipython3",
   "version": "3.12.0"
  }
 },
 "nbformat": 4,
 "nbformat_minor": 5
}
