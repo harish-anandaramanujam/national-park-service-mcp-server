{
 "cells": [
  {
   "cell_type": "markdown",
   "id": "50772845",
   "metadata": {},
   "source": [
    "# National Park Service MCP Server Integration workbook"
   ]
  },
  {
   "cell_type": "code",
   "execution_count": 83,
   "id": "c2f61f11",
   "metadata": {},
   "outputs": [
    {
     "data": {
      "text/plain": [
       "True"
      ]
     },
     "execution_count": 83,
     "metadata": {},
     "output_type": "execute_result"
    }
   ],
   "source": [
    "from dotenv import load_dotenv\n",
    "from agents import Agent, Runner, trace, Tool\n",
    "from agents.mcp import MCPServerStdio\n",
    "from IPython.display import display, Markdown\n",
    "\n",
    "load_dotenv(override=True)"
   ]
  },
  {
   "cell_type": "code",
   "execution_count": 84,
   "id": "5063c15d",
   "metadata": {},
   "outputs": [],
   "source": [
    "nps_api_server_params = [\n",
    "    {\"command\": \"uv\", \"args\": [\"run\",\"nps.py\"]}\n",
    "]\n",
    "\n",
    "# server1 = [\n",
    "#     {\"command\": \"uvx\", \"args\": [\"abc.py\"]},\n",
    "#     {\"command\": \"uvx\", \"args\": [\"xyz.py\"]}\n",
    "# ]"
   ]
  },
  {
   "cell_type": "code",
   "execution_count": 85,
   "id": "b06968b1",
   "metadata": {},
   "outputs": [],
   "source": [
    "nps_api_server = [MCPServerStdio(params, client_session_timeout_seconds=30) for params in nps_api_server_params]"
   ]
  },
  {
   "cell_type": "code",
   "execution_count": 86,
   "id": "5a454135",
   "metadata": {},
   "outputs": [],
   "source": [
    "mcp_servers = nps_api_server\n",
    "#mcp_servers = server1 + server2 +server3...."
   ]
  },
  {
   "cell_type": "code",
   "execution_count": 87,
   "id": "ea73cbb5",
   "metadata": {},
   "outputs": [],
   "source": [
    "async def nps_agent(mcp_servers) -> Agent:\n",
    "    instructions = \"\"\"You are a National Park Service (NPS) Assistant, \n",
    "    an expert guide specializing in America's national parks, monuments, historic sites, and recreational areas. \n",
    "    Your mission is to help visitors discover, plan, and explore the incredible natural \n",
    "    and cultural treasures protected by the National Park Service.\n",
    "    You use available tools to call NPS website API to provide accurate information\n",
    "\"\"\"\n",
    "    researcher = Agent(\n",
    "        name=\"Researcher\",\n",
    "        instructions=instructions,\n",
    "        model=\"gpt-4.1-mini\",\n",
    "        mcp_servers=mcp_servers,\n",
    "    )\n",
    "    return researcher"
   ]
  },
  {
   "cell_type": "code",
   "execution_count": 88,
   "id": "69e61a3a",
   "metadata": {},
   "outputs": [],
   "source": [
    "\n",
    "\n",
    "async def nps_tool(mcp_servers) -> Tool:\n",
    "    researcher = await nps_agent(mcp_servers)\n",
    "    return researcher.as_tool(\n",
    "            tool_name=\"NPS-Researcher\",\n",
    "            tool_description=\"This tool researches online for park information, \\\n",
    "                either based on your specific request to look into a certain park, \\\n",
    "                Describe the park name to get further information\"\n",
    "        )\n",
    "\n"
   ]
  },
  {
   "cell_type": "code",
   "execution_count": 90,
   "id": "8fc8c1e0",
   "metadata": {},
   "outputs": [
    {
     "name": "stdout",
     "output_type": "stream",
     "text": [
      "<agents.mcp.server.MCPServerStdio object at 0x11c938950>\n"
     ]
    },
    {
     "data": {
      "text/markdown": [
       "You can get passport stamps at the following locations in North Cascades National Park:\n",
       "\n",
       "1. Forest Info Center with HQ Administration Building\n",
       "2. Golden West Visitor Center\n",
       "3. North Cascades Visitor Center\n",
       "4. Wilderness Information Center\n",
       "\n",
       "These visitor centers will have the National Park passport stamps available for you. If you need more information about the park, you can visit the official website here: https://www.nps.gov/noca/index.htm"
      ],
      "text/plain": [
       "<IPython.core.display.Markdown object>"
      ]
     },
     "metadata": {},
     "output_type": "display_data"
    }
   ],
   "source": [
    "message = \"Where can i get passport stamps in North cascade national parks\"\n",
    "\n",
    "for server in mcp_servers:\n",
    "    print (server)\n",
    "    await server.connect()\n",
    "researcher = await nps_agent(mcp_servers) \n",
    "with trace(\"NPS-Researcher\"):\n",
    "    result = await Runner.run(researcher, message, max_turns=30)\n",
    "display(Markdown(result.final_output))"
   ]
  }
 ],
 "metadata": {
  "kernelspec": {
   "display_name": "agents",
   "language": "python",
   "name": "python3"
  },
  "language_info": {
   "codemirror_mode": {
    "name": "ipython",
    "version": 3
   },
   "file_extension": ".py",
   "mimetype": "text/x-python",
   "name": "python",
   "nbconvert_exporter": "python",
   "pygments_lexer": "ipython3",
   "version": "3.12.0"
  }
 },
 "nbformat": 4,
 "nbformat_minor": 5
}
