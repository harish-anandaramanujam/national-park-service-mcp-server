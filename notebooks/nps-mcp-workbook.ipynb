{
 "cells": [
  {
   "cell_type": "markdown",
   "id": "50772845",
   "metadata": {},
   "source": [
    "# National Park Service MCP Server Integration workbook"
   ]
  },
  {
   "cell_type": "code",
   "execution_count": 58,
   "id": "c2f61f11",
   "metadata": {},
   "outputs": [
    {
     "data": {
      "text/plain": [
       "True"
      ]
     },
     "execution_count": 58,
     "metadata": {},
     "output_type": "execute_result"
    }
   ],
   "source": [
    "from dotenv import load_dotenv\n",
    "from agents import Agent, Runner, trace, Tool\n",
    "from agents.mcp import MCPServerStdio\n",
    "from IPython.display import display, Markdown\n",
    "\n",
    "load_dotenv(override=True)"
   ]
  },
  {
   "cell_type": "code",
   "execution_count": 59,
   "id": "5063c15d",
   "metadata": {},
   "outputs": [],
   "source": [
    "nps_api_server_params = [\n",
    "    {\"command\": \"uv\", \"args\": [\"run\",\"nps.py\"]}\n",
    "]\n",
    "\n",
    "# server1 = [\n",
    "#     {\"command\": \"uvx\", \"args\": [\"abc.py\"]},\n",
    "#     {\"command\": \"uvx\", \"args\": [\"xyz.py\"]}\n",
    "# ]"
   ]
  },
  {
   "cell_type": "code",
   "execution_count": 60,
   "id": "b06968b1",
   "metadata": {},
   "outputs": [],
   "source": [
    "nps_api_server = [MCPServerStdio(params, client_session_timeout_seconds=30) for params in nps_api_server_params]"
   ]
  },
  {
   "cell_type": "code",
   "execution_count": 61,
   "id": "5a454135",
   "metadata": {},
   "outputs": [],
   "source": [
    "mcp_servers = nps_api_server\n",
    "#mcp_servers = server1 + server2 +server3...."
   ]
  },
  {
   "cell_type": "code",
   "execution_count": 67,
   "id": "ea73cbb5",
   "metadata": {},
   "outputs": [],
   "source": [
    "async def nps_agent(mcp_servers) -> Agent:\n",
    "    instructions = \"\"\"You are a National Park Service (NPS) Assistant, \n",
    "    an expert guide specializing in America's national parks, monuments, historic sites, and recreational areas. \n",
    "    Your mission is to help visitors discover, plan, and explore the incredible natural \n",
    "    and cultural treasures protected by the National Park Service.\n",
    "    You use available tools to call NPS website API to provide accurate information\n",
    "\"\"\"\n",
    "    researcher = Agent(\n",
    "        name=\"Researcher\",\n",
    "        instructions=instructions,\n",
    "        model=\"gpt-4.1-mini\",\n",
    "        mcp_servers=mcp_servers,\n",
    "    )\n",
    "    return researcher"
   ]
  },
  {
   "cell_type": "code",
   "execution_count": 68,
   "id": "69e61a3a",
   "metadata": {},
   "outputs": [],
   "source": [
    "\n",
    "\n",
    "async def nps_tool(mcp_servers) -> Tool:\n",
    "    researcher = await nps_agent(mcp_servers)\n",
    "    return researcher.as_tool(\n",
    "            tool_name=\"NPS-Researcher\",\n",
    "            tool_description=\"This tool researches online for park information, \\\n",
    "                either based on your specific request to look into a certain park, \\\n",
    "                Describe the park name to get further information\"\n",
    "        )\n",
    "\n"
   ]
  },
  {
   "cell_type": "code",
   "execution_count": 70,
   "id": "8fc8c1e0",
   "metadata": {},
   "outputs": [
    {
     "name": "stderr",
     "output_type": "stream",
     "text": [
      "Error initializing MCP server: Connection closed\n"
     ]
    },
    {
     "name": "stdout",
     "output_type": "stream",
     "text": [
      "<agents.mcp.server.MCPServerStdio object at 0x127d41280>\n"
     ]
    },
    {
     "ename": "McpError",
     "evalue": "Connection closed",
     "output_type": "error",
     "traceback": [
      "\u001b[31m---------------------------------------------------------------------------\u001b[39m",
      "\u001b[31mMcpError\u001b[39m                                  Traceback (most recent call last)",
      "\u001b[36mCell\u001b[39m\u001b[36m \u001b[39m\u001b[32mIn[70]\u001b[39m\u001b[32m, line 5\u001b[39m\n\u001b[32m      3\u001b[39m \u001b[38;5;28;01mfor\u001b[39;00m server \u001b[38;5;129;01min\u001b[39;00m mcp_servers:\n\u001b[32m      4\u001b[39m     \u001b[38;5;28mprint\u001b[39m (server)\n\u001b[32m----> \u001b[39m\u001b[32m5\u001b[39m     \u001b[38;5;28;01mawait\u001b[39;00m server.connect()\n\u001b[32m      6\u001b[39m researcher = \u001b[38;5;28;01mawait\u001b[39;00m nps_agent(mcp_servers) \n\u001b[32m      7\u001b[39m \u001b[38;5;28;01mwith\u001b[39;00m trace(\u001b[33m\"\u001b[39m\u001b[33mNPS-Researcher\u001b[39m\u001b[33m\"\u001b[39m):\n",
      "\u001b[36mFile \u001b[39m\u001b[32m~/Documents/workbooks/national-park-service-mcp-server/.venv/lib/python3.12/site-packages/agents/mcp/server.py:254\u001b[39m, in \u001b[36m_MCPServerWithClientSession.connect\u001b[39m\u001b[34m(self)\u001b[39m\n\u001b[32m    243\u001b[39m read, write, *_ = transport\n\u001b[32m    245\u001b[39m session = \u001b[38;5;28;01mawait\u001b[39;00m \u001b[38;5;28mself\u001b[39m.exit_stack.enter_async_context(\n\u001b[32m    246\u001b[39m     ClientSession(\n\u001b[32m    247\u001b[39m         read,\n\u001b[32m   (...)\u001b[39m\u001b[32m    252\u001b[39m     )\n\u001b[32m    253\u001b[39m )\n\u001b[32m--> \u001b[39m\u001b[32m254\u001b[39m server_result = \u001b[38;5;28;01mawait\u001b[39;00m session.initialize()\n\u001b[32m    255\u001b[39m \u001b[38;5;28mself\u001b[39m.server_initialize_result = server_result\n\u001b[32m    256\u001b[39m \u001b[38;5;28mself\u001b[39m.session = session\n",
      "\u001b[36mFile \u001b[39m\u001b[32m~/Documents/workbooks/national-park-service-mcp-server/.venv/lib/python3.12/site-packages/mcp/client/session.py:151\u001b[39m, in \u001b[36mClientSession.initialize\u001b[39m\u001b[34m(self)\u001b[39m\n\u001b[32m    139\u001b[39m elicitation = (\n\u001b[32m    140\u001b[39m     types.ElicitationCapability() \u001b[38;5;28;01mif\u001b[39;00m \u001b[38;5;28mself\u001b[39m._elicitation_callback \u001b[38;5;129;01mis\u001b[39;00m \u001b[38;5;129;01mnot\u001b[39;00m _default_elicitation_callback \u001b[38;5;28;01melse\u001b[39;00m \u001b[38;5;28;01mNone\u001b[39;00m\n\u001b[32m    141\u001b[39m )\n\u001b[32m    142\u001b[39m roots = (\n\u001b[32m    143\u001b[39m     \u001b[38;5;66;03m# TODO: Should this be based on whether we\u001b[39;00m\n\u001b[32m    144\u001b[39m     \u001b[38;5;66;03m# _will_ send notifications, or only whether\u001b[39;00m\n\u001b[32m   (...)\u001b[39m\u001b[32m    148\u001b[39m     \u001b[38;5;28;01melse\u001b[39;00m \u001b[38;5;28;01mNone\u001b[39;00m\n\u001b[32m    149\u001b[39m )\n\u001b[32m--> \u001b[39m\u001b[32m151\u001b[39m result = \u001b[38;5;28;01mawait\u001b[39;00m \u001b[38;5;28mself\u001b[39m.send_request(\n\u001b[32m    152\u001b[39m     types.ClientRequest(\n\u001b[32m    153\u001b[39m         types.InitializeRequest(\n\u001b[32m    154\u001b[39m             method=\u001b[33m\"\u001b[39m\u001b[33minitialize\u001b[39m\u001b[33m\"\u001b[39m,\n\u001b[32m    155\u001b[39m             params=types.InitializeRequestParams(\n\u001b[32m    156\u001b[39m                 protocolVersion=types.LATEST_PROTOCOL_VERSION,\n\u001b[32m    157\u001b[39m                 capabilities=types.ClientCapabilities(\n\u001b[32m    158\u001b[39m                     sampling=sampling,\n\u001b[32m    159\u001b[39m                     elicitation=elicitation,\n\u001b[32m    160\u001b[39m                     experimental=\u001b[38;5;28;01mNone\u001b[39;00m,\n\u001b[32m    161\u001b[39m                     roots=roots,\n\u001b[32m    162\u001b[39m                 ),\n\u001b[32m    163\u001b[39m                 clientInfo=\u001b[38;5;28mself\u001b[39m._client_info,\n\u001b[32m    164\u001b[39m             ),\n\u001b[32m    165\u001b[39m         )\n\u001b[32m    166\u001b[39m     ),\n\u001b[32m    167\u001b[39m     types.InitializeResult,\n\u001b[32m    168\u001b[39m )\n\u001b[32m    170\u001b[39m \u001b[38;5;28;01mif\u001b[39;00m result.protocolVersion \u001b[38;5;129;01mnot\u001b[39;00m \u001b[38;5;129;01min\u001b[39;00m SUPPORTED_PROTOCOL_VERSIONS:\n\u001b[32m    171\u001b[39m     \u001b[38;5;28;01mraise\u001b[39;00m \u001b[38;5;167;01mRuntimeError\u001b[39;00m(\u001b[33mf\u001b[39m\u001b[33m\"\u001b[39m\u001b[33mUnsupported protocol version from the server: \u001b[39m\u001b[38;5;132;01m{\u001b[39;00mresult.protocolVersion\u001b[38;5;132;01m}\u001b[39;00m\u001b[33m\"\u001b[39m)\n",
      "\u001b[36mFile \u001b[39m\u001b[32m~/Documents/workbooks/national-park-service-mcp-server/.venv/lib/python3.12/site-packages/mcp/shared/session.py:286\u001b[39m, in \u001b[36mBaseSession.send_request\u001b[39m\u001b[34m(self, request, result_type, request_read_timeout_seconds, metadata, progress_callback)\u001b[39m\n\u001b[32m    274\u001b[39m     \u001b[38;5;28;01mraise\u001b[39;00m McpError(\n\u001b[32m    275\u001b[39m         ErrorData(\n\u001b[32m    276\u001b[39m             code=httpx.codes.REQUEST_TIMEOUT,\n\u001b[32m   (...)\u001b[39m\u001b[32m    282\u001b[39m         )\n\u001b[32m    283\u001b[39m     )\n\u001b[32m    285\u001b[39m \u001b[38;5;28;01mif\u001b[39;00m \u001b[38;5;28misinstance\u001b[39m(response_or_error, JSONRPCError):\n\u001b[32m--> \u001b[39m\u001b[32m286\u001b[39m     \u001b[38;5;28;01mraise\u001b[39;00m McpError(response_or_error.error)\n\u001b[32m    287\u001b[39m \u001b[38;5;28;01melse\u001b[39;00m:\n\u001b[32m    288\u001b[39m     \u001b[38;5;28;01mreturn\u001b[39;00m result_type.model_validate(response_or_error.result)\n",
      "\u001b[31mMcpError\u001b[39m: Connection closed"
     ]
    }
   ],
   "source": [
    "message = \"Where can i get passport stamps in North cascade national parks\"\n",
    "\n",
    "for server in mcp_servers:\n",
    "    print (server)\n",
    "    await server.connect()\n",
    "researcher = await nps_agent(mcp_servers) \n",
    "with trace(\"NPS-Researcher\"):\n",
    "    result = await Runner.run(researcher, message, max_turns=30)\n",
    "display(Markdown(result.final_output))"
   ]
  }
 ],
 "metadata": {
  "kernelspec": {
   "display_name": "agents",
   "language": "python",
   "name": "python3"
  },
  "language_info": {
   "codemirror_mode": {
    "name": "ipython",
    "version": 3
   },
   "file_extension": ".py",
   "mimetype": "text/x-python",
   "name": "python",
   "nbconvert_exporter": "python",
   "pygments_lexer": "ipython3",
   "version": "3.12.0"
  }
 },
 "nbformat": 4,
 "nbformat_minor": 5
}
